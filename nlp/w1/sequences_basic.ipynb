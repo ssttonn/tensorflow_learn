{
 "cells": [
  {
   "cell_type": "code",
   "execution_count": 3,
   "metadata": {},
   "outputs": [
    {
     "name": "stdout",
     "output_type": "stream",
     "text": [
      "0 \n",
      "1 [UNK]\n",
      "2 my\n",
      "3 love\n",
      "4 dog\n",
      "5 you\n",
      "6 i\n",
      "7 think\n",
      "8 is\n",
      "9 do\n",
      "10 cat\n",
      "11 amazing\n"
     ]
    }
   ],
   "source": [
    "import tensorflow as tf\n",
    "\n",
    "sentences = [\n",
    "    \"I love my dog\",\n",
    "    \"I love my cat\",\n",
    "    \"You love my dog!\",\n",
    "    \"Do you think my dog is amazing?\"\n",
    "]\n",
    "\n",
    "vectorize_layer = tf.keras.layers.TextVectorization()\n",
    "vectorize_layer.adapt(sentences)\n",
    "\n",
    "vocabulary = vectorize_layer.get_vocabulary()\n",
    "\n",
    "for index, word in enumerate(vocabulary):\n",
    "    print(index, word)"
   ]
  },
  {
   "cell_type": "code",
   "execution_count": 4,
   "metadata": {},
   "outputs": [
    {
     "data": {
      "text/plain": [
       "<tf.Tensor: shape=(4,), dtype=int64, numpy=array([6, 3, 2, 4])>"
      ]
     },
     "execution_count": 4,
     "metadata": {},
     "output_type": "execute_result"
    }
   ],
   "source": [
    "sample_input = \"I love my dog\"\n",
    "\n",
    "sequence = vectorize_layer(sample_input)\n",
    "\n",
    "sequence"
   ]
  },
  {
   "cell_type": "code",
   "execution_count": 13,
   "metadata": {},
   "outputs": [
    {
     "name": "stdout",
     "output_type": "stream",
     "text": [
      "I love my dog ----> [6 3 2 4]\n",
      "I love my cat ----> [ 6  3  2 10]\n",
      "You love my dog! ----> [5 3 2 4]\n",
      "Do you think my dog is amazing? ----> [ 9  5  7  2  4  8 11]\n"
     ]
    }
   ],
   "source": [
    "sequences_dataset = tf.data.Dataset.from_tensor_slices(sentences)\n",
    "\n",
    "sequences = sequences_dataset.map(vectorize_layer)\n",
    "\n",
    "for sentence, sequence in zip(sentences, sequences):\n",
    "    print(f'{sentence} ----> {sequence}')"
   ]
  },
  {
   "cell_type": "code",
   "execution_count": 14,
   "metadata": {},
   "outputs": [
    {
     "name": "stdout",
     "output_type": "stream",
     "text": [
      "INPUT:\n",
      "['I love my dog', 'I love my cat', 'You love my dog!', 'Do you think my dog is amazing?']\n",
      "\n",
      "OUTPUT:\n",
      "tf.Tensor(\n",
      "[[ 6  3  2  4  0  0  0]\n",
      " [ 6  3  2 10  0  0  0]\n",
      " [ 5  3  2  4  0  0  0]\n",
      " [ 9  5  7  2  4  8 11]], shape=(4, 7), dtype=int64)\n"
     ]
    }
   ],
   "source": [
    "sequences_post = vectorize_layer(sentences)\n",
    "\n",
    "print(\"INPUT:\")\n",
    "print(sentences)\n",
    "print()\n",
    "\n",
    "print(\"OUTPUT:\")\n",
    "print(sequences_post)"
   ]
  },
  {
   "cell_type": "code",
   "execution_count": 11,
   "metadata": {},
   "outputs": [
    {
     "name": "stdout",
     "output_type": "stream",
     "text": [
      "INPUT:\n",
      "[6 3 2 4]\n",
      "[ 6  3  2 10]\n",
      "[5 3 2 4]\n",
      "[ 9  5  7  2  4  8 11]\n",
      "\n",
      "OUTPUT:\n",
      "[[ 0  0  0  6  3  2  4]\n",
      " [ 0  0  0  6  3  2 10]\n",
      " [ 0  0  0  5  3  2  4]\n",
      " [ 9  5  7  2  4  8 11]]\n"
     ]
    },
    {
     "name": "stderr",
     "output_type": "stream",
     "text": [
      "2025-02-01 12:02:00.705170: W tensorflow/core/framework/local_rendezvous.cc:404] Local rendezvous is aborting with status: OUT_OF_RANGE: End of sequence\n",
      "2025-02-01 12:02:00.718709: W tensorflow/core/framework/local_rendezvous.cc:404] Local rendezvous is aborting with status: OUT_OF_RANGE: End of sequence\n",
      "2025-02-01 12:02:00.730851: W tensorflow/core/framework/local_rendezvous.cc:404] Local rendezvous is aborting with status: OUT_OF_RANGE: End of sequence\n"
     ]
    }
   ],
   "source": [
    "sequences_pre = tf.keras.utils.pad_sequences(sequences, padding=\"pre\")\n",
    "\n",
    "print(\"INPUT:\")\n",
    "for sequence in sequences:\n",
    "    print(sequence.numpy())\n",
    "print()\n",
    "\n",
    "print(\"OUTPUT:\")\n",
    "print(sequences_pre)"
   ]
  },
  {
   "cell_type": "code",
   "execution_count": 16,
   "metadata": {},
   "outputs": [
    {
     "name": "stdout",
     "output_type": "stream",
     "text": [
      "INPUT:\n",
      "[6 3 2 4]\n",
      "[ 6  3  2 10]\n",
      "[5 3 2 4]\n",
      "[ 9  5  7  2  4  8 11]\n",
      "\n",
      "OUTPUT:\n",
      "[[ 0  6  3  2  4]\n",
      " [ 0  6  3  2 10]\n",
      " [ 0  5  3  2  4]\n",
      " [ 7  2  4  8 11]]\n"
     ]
    },
    {
     "name": "stderr",
     "output_type": "stream",
     "text": [
      "2025-02-01 12:06:52.188185: W tensorflow/core/framework/local_rendezvous.cc:404] Local rendezvous is aborting with status: OUT_OF_RANGE: End of sequence\n",
      "2025-02-01 12:06:52.201772: W tensorflow/core/framework/local_rendezvous.cc:404] Local rendezvous is aborting with status: OUT_OF_RANGE: End of sequence\n",
      "2025-02-01 12:06:52.213152: W tensorflow/core/framework/local_rendezvous.cc:404] Local rendezvous is aborting with status: OUT_OF_RANGE: End of sequence\n"
     ]
    }
   ],
   "source": [
    "sequences_post_trunc = tf.keras.utils.pad_sequences(sequences, maxlen=5, padding=\"pre\")\n",
    "\n",
    "print(\"INPUT:\")\n",
    "for sequence in sequences:\n",
    "    print(sequence.numpy())\n",
    "print()\n",
    "\n",
    "print(\"OUTPUT:\")\n",
    "print(sequences_post_trunc)"
   ]
  },
  {
   "cell_type": "code",
   "execution_count": 17,
   "metadata": {},
   "outputs": [
    {
     "name": "stdout",
     "output_type": "stream",
     "text": [
      "<tf.RaggedTensor [[6, 3, 2, 4], [6, 3, 2, 10], [5, 3, 2, 4], [9, 5, 7, 2, 4, 8, 11]]>\n"
     ]
    }
   ],
   "source": [
    "vectorize_layer = tf.keras.layers.TextVectorization(ragged=True)\n",
    "\n",
    "vectorize_layer.adapt(sentences)\n",
    "\n",
    "ragged_sequences = vectorize_layer(sentences)\n",
    "\n",
    "print(ragged_sequences)"
   ]
  },
  {
   "cell_type": "code",
   "execution_count": 20,
   "metadata": {},
   "outputs": [
    {
     "data": {
      "text/plain": [
       "array([[ 0,  0,  0,  6,  3,  2,  4],\n",
       "       [ 0,  0,  0,  6,  3,  2, 10],\n",
       "       [ 0,  0,  0,  5,  3,  2,  4],\n",
       "       [ 9,  5,  7,  2,  4,  8, 11]], dtype=int32)"
      ]
     },
     "execution_count": 20,
     "metadata": {},
     "output_type": "execute_result"
    }
   ],
   "source": [
    "sequences_pre = tf.keras.utils.pad_sequences(ragged_sequences.numpy())\n",
    "\n",
    "sequences_pre"
   ]
  },
  {
   "cell_type": "code",
   "execution_count": 21,
   "metadata": {},
   "outputs": [
    {
     "data": {
      "text/plain": [
       "array([[ 6,  3,  2,  4,  0,  0,  0],\n",
       "       [ 6,  3,  2, 10,  0,  0,  0],\n",
       "       [ 5,  3,  2,  4,  0,  0,  0],\n",
       "       [ 9,  5,  7,  2,  4,  8, 11]], dtype=int32)"
      ]
     },
     "execution_count": 21,
     "metadata": {},
     "output_type": "execute_result"
    }
   ],
   "source": [
    "sequences_post = tf.keras.utils.pad_sequences(ragged_sequences.numpy(), padding=\"post\")\n",
    "\n",
    "sequences_post"
   ]
  },
  {
   "cell_type": "code",
   "execution_count": 22,
   "metadata": {},
   "outputs": [
    {
     "name": "stdout",
     "output_type": "stream",
     "text": [
      "i really love my dog ----> [6 1 3 2 4]\n",
      "my dog loves my manatee ----> [2 4 1 2 1]\n"
     ]
    }
   ],
   "source": [
    "sentences_with_oov = [\n",
    "    \"i really love my dog\",\n",
    "    \"my dog loves my manatee\"\n",
    "]\n",
    "\n",
    "sequences_with_oov = vectorize_layer(sentences_with_oov)\n",
    "\n",
    "for sentence, sequence in zip(sentences_with_oov, sequences_with_oov):\n",
    "    print(f\"{sentence} ----> {sequence}\")"
   ]
  },
  {
   "cell_type": "code",
   "execution_count": null,
   "metadata": {},
   "outputs": [],
   "source": []
  }
 ],
 "metadata": {
  "kernelspec": {
   "display_name": "Python 3",
   "language": "python",
   "name": "python3"
  },
  "language_info": {
   "codemirror_mode": {
    "name": "ipython",
    "version": 3
   },
   "file_extension": ".py",
   "mimetype": "text/x-python",
   "name": "python",
   "nbconvert_exporter": "python",
   "pygments_lexer": "ipython3",
   "version": "3.9.6"
  }
 },
 "nbformat": 4,
 "nbformat_minor": 2
}
